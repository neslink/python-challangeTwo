{
 "cells": [
  {
   "cell_type": "code",
   "execution_count": 1,
   "id": "dda4cd9e",
   "metadata": {},
   "outputs": [],
   "source": [
    "import os\n",
    "import csv"
   ]
  },
  {
   "cell_type": "code",
   "execution_count": 7,
   "id": "8ccb7269",
   "metadata": {},
   "outputs": [
    {
     "name": "stdout",
     "output_type": "stream",
     "text": [
      "Total number of months: 86\n"
     ]
    }
   ],
   "source": [
    "#Total number of months included in dataset\n",
    "num_months = 0\n",
    "\n",
    "with open('Resources/budget_data.csv', 'r') as file:\n",
    "    reader = csv.DictReader(file)\n",
    "    \n",
    "    #loop\n",
    "    for row in reader:\n",
    "        num_months += 1\n",
    "        \n",
    "    print(f'Total number of months: {num_months}')"
   ]
  },
  {
   "cell_type": "code",
   "execution_count": 10,
   "id": "0d15fe9f",
   "metadata": {},
   "outputs": [
    {
     "name": "stdout",
     "output_type": "stream",
     "text": [
      "The Net total amount of \"Profit/Losses is \": $22564198\n"
     ]
    }
   ],
   "source": [
    "# The net total amount of Profit/Losses over the entire period\n",
    "net_total = 0\n",
    "\n",
    "with open ('Resources/budget_data.csv', 'r') as file:\n",
    "    reader = csv.DictReader(file)\n",
    "    \n",
    "    #loop\n",
    "    for row in reader:\n",
    "        profloss = int(row[\"Profit/Losses\"])\n",
    "        net_total += profloss\n",
    "    \n",
    "    print(f'The Net total amount of \"Profit/Losses is \": ${net_total}')"
   ]
  },
  {
   "cell_type": "code",
   "execution_count": 15,
   "id": "1086f66c",
   "metadata": {},
   "outputs": [
    {
     "name": "stdout",
     "output_type": "stream",
     "text": [
      "Average changes of Profit/loss: $-8311.11\n"
     ]
    }
   ],
   "source": [
    "#The changes in \"Profit/Losses\" over the entire period, and then the average of those changes\n",
    "changes = []\n",
    "previous_profloss = None\n",
    "\n",
    "with open(\"Resources/budget_data.csv\", 'r') as file:\n",
    "    reader = csv.DictReader(file)\n",
    "    \n",
    "    for row in reader:\n",
    "        profloss = int(row[\"Profit/Losses\"])\n",
    "        \n",
    "        if previous_profloss is not None:\n",
    "            change = profloss - previous_profloss\n",
    "            changes.append(change)\n",
    "        \n",
    "        previous_profloss = profloss\n",
    "\n",
    "average_change = sum(changes) / len(changes)\n",
    "\n",
    "print(f'Average changes of Profit/loss: ${average_change:.2f}')"
   ]
  },
  {
   "cell_type": "code",
   "execution_count": 17,
   "id": "9dbe7b43",
   "metadata": {},
   "outputs": [
    {
     "name": "stdout",
     "output_type": "stream",
     "text": [
      "The Greatest increase in profit is: Aug-16 ($1862002)\n"
     ]
    }
   ],
   "source": [
    "#The greatest increase in profits (date and amount) over the entire period\n",
    "greatest_increase = {\"date\": None, \"amount\": 0}\n",
    "previous_profloss = None\n",
    "\n",
    "with open(\"Resources/budget_data.csv\", 'r') as file:\n",
    "    reader = csv.DictReader(file)\n",
    "    \n",
    "    for row in reader:\n",
    "        profloss = int(row[\"Profit/Losses\"])\n",
    "        date = row[\"Date\"]\n",
    "        \n",
    "        if previous_profloss is not None:\n",
    "            change = profloss - previous_profloss\n",
    "            if change > greatest_increase[\"amount\"]:\n",
    "                greatest_increase[\"date\"] = date\n",
    "                greatest_increase[\"amount\"] = change\n",
    "        \n",
    "        previous_profloss = profloss\n",
    "\n",
    "print(f'The Greatest increase in profit is:', f'{greatest_increase[\"date\"]}', f'(${greatest_increase[\"amount\"]})')"
   ]
  },
  {
   "cell_type": "code",
   "execution_count": 29,
   "id": "ad67c42e",
   "metadata": {},
   "outputs": [
    {
     "name": "stdout",
     "output_type": "stream",
     "text": [
      "The Greatest decrease in profits are in: Feb-14 ($-1825558)\n"
     ]
    }
   ],
   "source": [
    "#The greatest decrease in profits (date and amount) over the entire period\n",
    "greatest_decrease = {'date': None, \"amount\": 0}\n",
    "previous_proflosses = None\n",
    "\n",
    "with open(\"Resources/budget_data.csv\", 'r') as file:\n",
    "    reader = csv.DictReader(file)\n",
    "    \n",
    "    for row in reader:\n",
    "        prof_losses = int(row[\"Profit/Losses\"])\n",
    "        date = row[\"Date\"]\n",
    "        \n",
    "        if previous_proflosses is not None:\n",
    "            change = prof_losses - previous_proflosses\n",
    "            if change < greatest_decrease[\"amount\"]:\n",
    "                greatest_decrease['date'] = date\n",
    "                greatest_decrease['amount'] = change\n",
    "        \n",
    "        previous_proflosses = prof_losses\n",
    "\n",
    "P_d_Profit = f'Greatest derease in profit:', f'{greatest_decrease[\"date\"]}', f'(${greatest_decrease[\"amount\"]})'\n",
    "print(f'The Greatest decrease in profits are in:', f'{greatest_decrease[\"date\"]}', f'(${greatest_decrease[\"amount\"]})')\n",
    "\n"
   ]
  },
  {
   "cell_type": "code",
   "execution_count": 33,
   "id": "f11db92d",
   "metadata": {},
   "outputs": [
    {
     "name": "stdout",
     "output_type": "stream",
     "text": [
      "Financial Analysis\n",
      "---------------\n",
      "Total number of months: 86\n",
      "The Net total amount of \"Profit/Losses is \": $22564198\n",
      "Average changes of Profit/loss: $-8311.11\n",
      "The Greatest increase in profit is: Aug-16 ($1862002)\n",
      "The Greatest decrease in profits are in: Feb-14 ($-1825558)\n"
     ]
    }
   ],
   "source": [
    "print(\"Financial Analysis\")\n",
    "print(f\"-\"*15)\n",
    "print(f'Total number of months: {num_months}')\n",
    "print(f'The Net total amount of \"Profit/Losses is \": ${net_total}')\n",
    "print(f'Average changes of Profit/loss: ${average_change:.2f}')\n",
    "print(f'The Greatest increase in profit is:', f'{greatest_increase[\"date\"]}', f'(${greatest_increase[\"amount\"]})')\n",
    "print(f'The Greatest decrease in profits are in:', f'{greatest_decrease[\"date\"]}', f'(${greatest_decrease[\"amount\"]})')"
   ]
  },
  {
   "cell_type": "code",
   "execution_count": 35,
   "id": "ab378ec5",
   "metadata": {},
   "outputs": [
    {
     "name": "stdout",
     "output_type": "stream",
     "text": [
      "Financial analysis has been exported to financial_analysis.txt\n"
     ]
    }
   ],
   "source": [
    "with open(file_path, 'w') as file:\n",
    "    file.write(\"Financial Analysis\\n\")\n",
    "    file.write(\"-\" * 15 + \"\\n\")\n",
    "    file.write(f'Total number of months: {num_months}\\n')\n",
    "    file.write(f'The Net total amount of \"Profit/Losses is \": ${net_total}\\n')\n",
    "    file.write(f'Average changes of Profit/loss: ${average_change:.2f}\\n')\n",
    "    file.write(f'The Greatest increase in profit is: {greatest_increase[\"date\"]} (${greatest_increase[\"amount\"]})\\n')\n",
    "    file.write(f'The Greatest decrease in profits are in: {greatest_decrease[\"date\"]} (${greatest_decrease[\"amount\"]})\\n')\n",
    "\n",
    "print(f\"Financial analysis has been exported to {file_path}\")\n"
   ]
  },
  {
   "cell_type": "code",
   "execution_count": null,
   "id": "e09398ec",
   "metadata": {},
   "outputs": [],
   "source": []
  },
  {
   "cell_type": "code",
   "execution_count": null,
   "id": "5c20ed41",
   "metadata": {},
   "outputs": [],
   "source": []
  },
  {
   "cell_type": "code",
   "execution_count": null,
   "id": "1ba47435",
   "metadata": {},
   "outputs": [],
   "source": []
  },
  {
   "cell_type": "code",
   "execution_count": null,
   "id": "93b1ec03",
   "metadata": {},
   "outputs": [],
   "source": []
  },
  {
   "cell_type": "code",
   "execution_count": null,
   "id": "225b8255",
   "metadata": {},
   "outputs": [],
   "source": []
  }
 ],
 "metadata": {
  "kernelspec": {
   "display_name": "Python 3 (ipykernel)",
   "language": "python",
   "name": "python3"
  },
  "language_info": {
   "codemirror_mode": {
    "name": "ipython",
    "version": 3
   },
   "file_extension": ".py",
   "mimetype": "text/x-python",
   "name": "python",
   "nbconvert_exporter": "python",
   "pygments_lexer": "ipython3",
   "version": "3.11.5"
  }
 },
 "nbformat": 4,
 "nbformat_minor": 5
}
