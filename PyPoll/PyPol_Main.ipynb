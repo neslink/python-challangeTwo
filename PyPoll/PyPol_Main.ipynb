{
 "cells": [
  {
   "cell_type": "code",
   "execution_count": 1,
   "id": "2aaf73df",
   "metadata": {},
   "outputs": [],
   "source": [
    "import os\n",
    "import csv"
   ]
  },
  {
   "cell_type": "code",
   "execution_count": 3,
   "id": "132548e4",
   "metadata": {},
   "outputs": [
    {
     "name": "stdout",
     "output_type": "stream",
     "text": [
      "Elections Results\n",
      "--------------------\n",
      "Total Votes: 369711\n",
      "--------------------\n",
      "Charles Casper Stockham: 23.049% (85213)\n",
      "Diana DeGette: 73.812% (272892)\n",
      "Raymon Anthony Doane: 3.139% (11606)\n",
      "--------------------\n",
      "Winner: Diana DeGette\n",
      "--------------------\n"
     ]
    }
   ],
   "source": [
    "csvpath = os.path.join(\"Resources/election_data.csv\")  \n",
    "total_votes_cast = 0\n",
    "candidates_votes = {}\n",
    "\n",
    "with open(csvpath) as csvfile:\n",
    "    csvreader = csv.reader(csvfile, delimiter=\",\")\n",
    "    csv_headers = next(csvreader)\n",
    "\n",
    "    for row in csvreader:\n",
    "        total_votes_cast += 1\n",
    "        candidate_name = row[2]\n",
    "        if candidate_name not in candidates_votes:\n",
    "            candidates_votes[candidate_name] = 0\n",
    "        candidates_votes[candidate_name] += 1\n",
    "\n",
    "# The percentage of votes each candidate won\n",
    "percentage_vote_won = {}\n",
    "for candidate, votes in candidates_votes.items():\n",
    "    percentage_vote_won[candidate] = (votes / total_votes_cast) * 100\n",
    "\n",
    "# The winner of the election based on popular vote\n",
    "winner = max(candidates_votes, key=candidates_votes.get)\n",
    "\n",
    "print(\"Elections Results\")\n",
    "print(f\"-\" * 20)\n",
    "print(f\"Total Votes: {total_votes_cast}\")\n",
    "print(f\"-\" * 20)\n",
    "\n",
    "# The total number of votes each candidate won\n",
    "for candidate, votes in candidates_votes.items():\n",
    "    print(f\"{candidate}: {percentage_vote_won[candidate]:.3f}% ({votes})\")\n",
    "\n",
    "print(f\"-\" * 20)\n",
    "print(f\"Winner: {winner}\")\n",
    "print(f\"-\" * 20)"
   ]
  },
  {
   "cell_type": "code",
   "execution_count": 6,
   "id": "4f5a33f6",
   "metadata": {},
   "outputs": [
    {
     "name": "stdout",
     "output_type": "stream",
     "text": [
      "Election results have been exported to election_results.txt\n"
     ]
    }
   ],
   "source": [
    "with open(file_path, 'w') as file:\n",
    "    file.write(\"Elections Results\\n\")\n",
    "    file.write(\"-\" * 20 + \"\\n\")\n",
    "    file.write(f\"Total Votes: {total_votes_cast}\\n\")\n",
    "    file.write(\"-\" * 20 + \"\\n\")\n",
    "    \n",
    "    for candidate, votes in candidates_votes.items():\n",
    "        file.write(f\"{candidate}: {percentage_vote_won[candidate]:.3f}% ({votes})\\n\")\n",
    "\n",
    "    file.write(\"-\" * 20 + \"\\n\")\n",
    "    file.write(f\"Winner: {winner}\\n\")\n",
    "    file.write(\"-\" * 20 + \"\\n\")\n",
    "\n",
    "print(f\"Election results have been exported to {file_path}\")\n"
   ]
  },
  {
   "cell_type": "code",
   "execution_count": null,
   "id": "51ba7f80",
   "metadata": {},
   "outputs": [],
   "source": []
  }
 ],
 "metadata": {
  "kernelspec": {
   "display_name": "Python 3 (ipykernel)",
   "language": "python",
   "name": "python3"
  },
  "language_info": {
   "codemirror_mode": {
    "name": "ipython",
    "version": 3
   },
   "file_extension": ".py",
   "mimetype": "text/x-python",
   "name": "python",
   "nbconvert_exporter": "python",
   "pygments_lexer": "ipython3",
   "version": "3.11.5"
  }
 },
 "nbformat": 4,
 "nbformat_minor": 5
}
